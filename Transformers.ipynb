{
  "nbformat": 4,
  "nbformat_minor": 0,
  "metadata": {
    "colab": {
      "provenance": [],
      "authorship_tag": "ABX9TyPqtj9wMxHeMdFFJP9huWYn",
      "include_colab_link": true
    },
    "kernelspec": {
      "name": "python3",
      "display_name": "Python 3"
    },
    "language_info": {
      "name": "python"
    }
  },
  "cells": [
    {
      "cell_type": "markdown",
      "metadata": {
        "id": "view-in-github",
        "colab_type": "text"
      },
      "source": [
        "<a href=\"https://colab.research.google.com/github/mostafa-ja/Transformers/blob/main/Transformers.ipynb\" target=\"_parent\"><img src=\"https://colab.research.google.com/assets/colab-badge.svg\" alt=\"Open In Colab\"/></a>"
      ]
    },
    {
      "cell_type": "markdown",
      "source": [
        "# Introduction\n",
        "[kaggle tutorial link](https://www.kaggle.com/code/arunmohan003/transformer-from-scratch-using-pytorch/notebook)\n",
        "\n"
      ],
      "metadata": {
        "id": "FKr4QDPjHguA"
      }
    },
    {
      "cell_type": "markdown",
      "source": [
        "#  Import Libraries\n",
        "\n",
        "\n"
      ],
      "metadata": {
        "id": "mnsYzhidHYf4"
      }
    },
    {
      "cell_type": "code",
      "source": [
        "# importing required libraries\n",
        "import torch.nn as nn\n",
        "import torch\n",
        "import torch.nn.functional as F\n",
        "import math,copy,re\n",
        "import warnings\n",
        "import pandas as pd\n",
        "import numpy as np\n",
        "import seaborn as sns\n",
        "import torchtext\n",
        "import matplotlib.pyplot as plt\n",
        "warnings.simplefilter(\"ignore\")\n",
        "print(torch.__version__)"
      ],
      "metadata": {
        "colab": {
          "base_uri": "https://localhost:8080/"
        },
        "id": "-BXLifcJHX6G",
        "outputId": "4d833575-4082-4ce3-ce95-534eb643e946"
      },
      "execution_count": 2,
      "outputs": [
        {
          "output_type": "stream",
          "name": "stdout",
          "text": [
            "1.13.1+cu116\n"
          ]
        }
      ]
    },
    {
      "cell_type": "markdown",
      "source": [
        "# Basic components"
      ],
      "metadata": {
        "id": "JHra7os-IbcF"
      }
    },
    {
      "cell_type": "markdown",
      "source": [
        "Create Word Embeddings\n",
        "\n",
        "First of all we need to convert each word in the input sequence to an embedding vector. Embedding vectors will create a more semantic representation of each word.\n",
        "\n",
        "Suppoese each embedding vector is of 512 dimension and suppose our vocab size is 100, then our embedding matrix will be of size 100x512. These marix will be learned on training and during inference each word will be mapped to corresponding 512 d vector. Suppose we have batch size of 32 and sequence length of 10(10 words). The the output will be 32x10x512."
      ],
      "metadata": {
        "id": "YjqniYu4IdrC"
      }
    },
    {
      "cell_type": "code",
      "source": [
        "class Embedding(nn.Module):\n",
        "  def __init__(self,vocab_size,embed_dim):\n",
        "    super(Embedding,self).__init__()\n",
        "    self.embed = nn.Embedding(vocab_size,embed_dim)\n",
        "\n",
        "  def forward(self,x):\n",
        "    out = self.embed(x)\n",
        "    return out"
      ],
      "metadata": {
        "id": "gwlXhAmHHX2N"
      },
      "execution_count": 3,
      "outputs": []
    },
    {
      "cell_type": "markdown",
      "source": [
        "# Positional Encoding\n",
        "\n",
        "Positinal embedding will generate a matrix of similar to embedding matrix. It will create a matrix of dimension sequence length x embedding dimension. For each token(word) in sequence, we will find the embedding vector which is of dimension 1 x 512 and it is added with the correspondng positional vector which is of dimension 1 x 512 to get 1 x 512 dim out for each word/token.\n",
        "\n",
        "for eg: if we have batch size of 32 and seq length of 10 and let embedding dimension be 512. Then we will have embedding vector of dimension 32 x 10 x 512. Similarly we will have positional encoding vector of dimension 32 x 10 x 512. Then we add both"
      ],
      "metadata": {
        "id": "yucBO_-0JbDs"
      }
    },
    {
      "cell_type": "code",
      "source": [
        "# register buffer in Pytorch ->\n",
        "# If you have parameters in your model, which should be saved and restored in the state_dict,\n",
        "# but not trained by the optimizer, you should register them as buffers.\n",
        "\n",
        "\n",
        "class PositionalEmbedding(nn.Module):\n",
        "    def __init__(self,max_seq_len,embed_dim):\n",
        "        super().__init__()\n",
        "        self.embed_dim = embed_dim \n",
        "        assert embed_dim % 2 == 0 ,'embed_dim must be even'\n",
        "        pe = torch.zeros(max_seq_len,embed_dim)\n",
        "        for pos in range(max_seq_len):\n",
        "            for i in range(0,embed_dim,2):\n",
        "                pe[pos, i] = math.sin(pos / (10000 ** ((2 * i)/embed_dim)))\n",
        "                pe[pos, i + 1] = math.cos(pos / (10000 ** ((2 * (i + 1))/embed_dim))) #i have doubt about (i+1) or (i)\n",
        "        pe = pe.unsqueeze(0) #shape:(1,max_seq_len,embed_dim)\n",
        "        self.register_buffer('pe', pe)\n",
        "\n",
        "\n",
        "    def forward(self, x):      \n",
        "        seq_len = x.size(1)\n",
        "        x = x + self.pe[:,:seq_len] #shape:(1,seq_len,embed_dim)\n",
        "        return x"
      ],
      "metadata": {
        "id": "SDXeDu9nEk7C"
      },
      "execution_count": 9,
      "outputs": []
    },
    {
      "cell_type": "markdown",
      "source": [
        "# Self Attention\n",
        "\n",
        "**Step 1**: The first step in calculating self-attention is to create three vectors from each of the encoder’s input vectors (in this case, the embedding of each word). So for each word, we create a Query vector, a Key vector, and a Value vector. Each of the vector will be of dimension 1x64.\n",
        "\n",
        "Suppose we have batch_size=32,sequence_length=10, embedding dimension=512. So after embedding and positional encoding our output will be of dimension 32x10x512.\n",
        "We will resize it to 32x10x8x64.(About 8, it is the number of heads in multihead attention.Dont worry you will get to know about it once you go through the code.).\n",
        "\n",
        "**Step 2**: Second step is to calculate the score. ie, we will multiply query marix with key matrix. [Q x K.t]\n",
        "\n",
        "Suppose our key,query and value dimension be 32x10x8x64. Before proceeding further, we will transpose each of them for multiplication convinience (32x8x10x64). Now multiply query matrix with transpose key matrix. ie (32x8x10x64) x (32x8x64x10) -> (32x8x10x10).\n",
        "\n",
        "**Step 3:** Now divide the output matrix with square root of dimension of key matrix and then apply Softmax over it.\n",
        "\n",
        "we will divide 32x8x10x10 vector by 8 ie, by square root of 64 (dimension of key matrix)\n",
        "\n",
        "**Step 4:** Then this gets multiply it with value matrix.\n",
        "\n",
        "After step 3 our output will be of dimension 32x8x10x10. Now muliply it with value matrix (32x8x10x64) to get output of dimension (32x8x10x64).Here 8 is the number of attention heads and 10 is the sequence length.Thus for each word we have 64 dim vector.\n",
        "\n",
        "**Step 5**: Once we have this we will pass this through a linear layer. This forms the output of multihead attention.\n",
        "\n",
        "(32x8x10x64) vector gets transposed to (32x10x8x64) and then reshaped as (32x10x512).Then it is passed through a linear layer to get output of (32x10x512)."
      ],
      "metadata": {
        "id": "qq-BtnA-HXny"
      }
    },
    {
      "cell_type": "markdown",
      "source": [
        "A ‘View’ uses the same chunk of memory block as the original tensor, and thus any changes among this memory chunk will affect all the views and the original tensor that’s associated with it.  \n",
        "\n",
        "Transpose( ) has Non-Contiguous Data Structure\n",
        "\n",
        "A non-contiguous tensor view can be converted to a contiguous one, and it would make a copy of it, so the data will not be associated with the original data chunk anymore.\n",
        "\n",
        "Difference between view() and reshape():\n",
        "\n",
        "**view() cannot apply on ‘non-contiguous’ tensor** for example after using transpose we cannot use view unless we make it contigous(define new arrange of elemnts in matrice which is diffrent from the first diffinition like the below pic).\n",
        "\n",
        "reshape() can apply on both ‘contiguous’ and ‘non-contiguous’ tensor/view. When possible, it will return a view; When the data is non-contiguous, it makes a new copy of it."
      ],
      "metadata": {
        "id": "ptKfnwW0snuu"
      }
    },
    {
      "cell_type": "markdown",
      "source": [
        "![1_HRWWBxD3H0rkO4r5J64dVg.webp](data:image/webp;base64,UklGRkxXAABXRUJQVlA4WAoAAAAIAAAAAgQAIAIAVlA4IGxWAAAwpwGdASoDBCECPm0ylUikIqIiI3LKuIANiWVu+/O79q35K8+NO9etucS8/4eG3LjANxuObqh+l/xt296P/W/4z8kPgI5T7+vXHkb2l/9L+w+MnXP/Z88zy/9c/73+A/N356/8L1P/3z/bfsF8AP9X/t37P+9v0S/u76hv6X/ev2I/6nwn/539tvcx/Q/9V+13/G+QD+f/5f/+e03/1///7k/9y/5v/39wn+kf6L/++0V/5f3n///yjf3H/sfur/4/kh/bD///9L3AP/36gH/y63/qn/XP7H+zXgJ/c/8F+yvob+M/Ov2v+z/s/6/X8f4cexPNP+TfbP8X/cf8N/vP7Z+6P3j/hP9d+Qfmz8jv7v8ivgC/IP5l/jPzH/uH7z+tB2zO+f8D/ufkd8AvvZ9S/2v+F/xv/E/03wue+/6n8uvcb7Gf9T/DfAB/M/5//qP7X+8X7//Xv/V/6HjF/jv+z7AP8q/r3/Y/x3u4/1f/g/235Z+4z9L/03/i/03wH/zv+tf8f/B/k/86n//9yP7v///3ZP3g//5K9Tr29xGDwW2mAj03kMiANioeDfvlTTAR6byGRAGxUPBv3yppgI9N5DIgDYqHg375U0wEem8hkQBsOWGHBr85Q3A2XL6z6AxF0GMoUGcgpnYPTeQyLCY7K5zQ6XV7Hb7xgsZk81odLq9jt94wWMyea0Ol1ex2+8YLGZPNaHS6vY7feMFjMnmtDpb0fVcI1NxAP1kc3d8d8gjx3M41s3GB92992yN/+neZFPTts8FYOK6guxMK/AD+olwi5HW+Zkr8AP6iXCLkdbzI9gX7BbvDpKMySk2wsejx6zA347ZI5yek0qX23ou67u+OkKtV3ImwMNKrtst7xnCLi3eHIGaOOr8uWMUQzwYLIGP6V0GN54tMsT469t8tGPuzbG5d0jWgGO5OjXDE2yoH5MB13NPxINCgpO7CwGQN+kicAYdzl86TKdMyDZsgRyZPFMFwUC5DJ5DpCvMQ8HQK4tqY7YPZSrFWwlbc5LqGXf2I2IHOiXGHP0P6htp0IOATvGebPxC4BnUU7H1CuSCtF9YUKa94S8+wLIrGkCkyWKQIvZu0Bzr84BKUKqORaD49VbZS5JOz312VJEjluP6GLE78iVSYU8a39sOxZhCycWFfdE4VvjxNSD1Zq306CU7J+eR7Fgsd3We9g5Ve2eykFNoIl1VNgAxjshRnRLi5lq2Jhk/qA7BLgQg9BBNuB6gKtjtUBRCM09TIRbaGZdnvwbbWHbBgZSbWZ1QjvhiTHA9c5xiG+hUtX3nxPhch+D8ye+Ug1cjob4L/STmZDmtzhdrBBRBBts/cPsURJYCNmy08ZrJrvArY6Euqxvjo8C30aJBCUw9kJwq6W1UtY3x0hYP0JkY5RrRxQj1MdmeUL7lBqSXfaR6dwpS3mqugcvnRLjDnH0phMkzlN8dIVbHa+dEuMOkKtjtfOiXGHSFWx2vnRLjDpCrY7U5KvuYk3nKG4uzIuythggtxUBjfbPHSFWx2vnRLjDpCrY7Xzolxh0hVsdqclX3MSbzlB9GCithUJdWeYUS3AbDuD2IelblBjxvMR/xtR/cYdIVbHa+dEuMOkKtjtfOiXGHSEp3Z3uTCtaxQsKc61FQABJnamyg0JWqeklC65eataxvjpCrY7Xzolxh0hVsdr50S4ujQsugvpq1Uai8gbtYF+OcSiuhjFQXej5AukwR6s3Yl1YXHYVZmqy9AV9WpdGrAL01arY7Xzolxh0hVsdr5zaonI8EnZST1BtRZEx8T0F/mlVcm3dapHUsk1HLhGciI5gyWr2cDVU76q32kkA5gPtRsUatDMZ+ntoJ4wHaHvZ/SMOOnDpCrY7Xzolxh0hVsdqhNkiV3AQbUWRRujnJSqoB2kVNtNH82zI36bG3qEqBs68McOhC1nhSL2gHQDMf174ScMVDveDRmdI/dhK3KgMjHyhcu7I0o/iR4X4GJJVkYsxedSAr++9OH7eA7VZyfSvojdn+qDQsVJ0DQmvrwX+kwtHTZjFnN46pGKBeP6oOtYbfAWeqFQVVBRmADjzNcpfG0wN+81YDwBpjbpSzbeUOdDcxOPOIMF2uPEU+eWNu6eDROjzYtZJuOezwhEND+jBRGFcORt5BfG2sr9B0E5ktyxDc2Ol2mJbqnqAx6XuSwensBZ2WtT8PqQeB6CbbKzdt/6617IOJ+6cMUzLehXRTcfTJwXf7QY9q73bz3KHZG/hkkP4470sdbN6VjFfpSzVfc80Di5EUZlkjDI1xoP34rO8Ov0mzHs/pohjWgrDTCjcu1kfixwZu2XmZU1xnEUI+TltDjG2ssbfpoZNhdPW2B/3SOckpK0vCDSGmQTRwQnmk+vF3GsAraw92S6ctGLD1CXxogBiSSWL4q32ZAGiEPBXTdJvB8SI1hfE0snCPImm/QlCwzupoNO9LHU+aCxbIoX4fj7S/UXWoqmfdAJmijfyx9NZbYvz2WYSyKFyNu3nr0x73Z3cqB8iLM/8F395gVGL9vR3NeFyA9mwkpxCfNwlLVgj0uDZeL8DZLGbxv4ZJD+OO9LHVWKgHaOHfjJEXIrswNayuoeSdwyzHT9MD1Yv185uxrTohRuhJUraNVY7n9Vh7+xCr3zLeUWQ6SeXOxi/qxrH4iHy6SxFL4eVsu/DfyRx2GWbrNtTUZWgDCWa7OgFqOrlH6B8Cgd4klX3MQCZpvbz1mU2Di0reW8SaF1IR9WsR/IJW9pWnl09lSUOV2vaFagWj5OXvU+UpCuQMZQlUTP2rcaWJZHFETz2Aw1axLMfP8YezYEN/A21RJLIMwI0avFEdVJWjo75CiLSVfcxAJmm9qmNVVj6C0YvZKt3zH7liJ+HdGspteP46px1v3aRjNNn1WsTIqu3Jktf+CLW0o3EH2zbTZQcQW/caQpLSqBSscXeurXlpxWz5XOG2kJQulXKHQN6UJG9xLhWckeVqQJOxmpqzIt2NqYDZ6qlkBB3EXrDfY79Ghy07wgCinLRiw9TtpkfP2GqsTtiEIMTpjnGpLTUZRFpKvuYdqQkqeqqncsgnRrnJFTApKJr/h4z3Z4s1y9iUlInBHSae3qsNwhPuNMNBnoCekm3P9oINNGzpaC/Qixql6atVsdr50S4w6Qq1TGUir3zNjS98wfQ3Xdne5MK1rEjgYXgZuEKb+66drh0I0alRoHYvmuYUfy6OYFCJ4Z4NMv3dLtY4vatOzlDcYdIVbHa+dEuMOkRbE9bYIDemrTJ5MJ4fH9bUn1V5n1ZZbeaGcKuBVLgwdeB9k5SHsztTMZH1cY7Xzolxh0hVsdr50S4w6Qq2O185p++9OIqxvjUVIRB4UaVzgcyBXKm1NRQ6O/Z7d8AL0zzpKqVzhIlxh0hVsdr50S4w6Qq2O186JcYZBkkP4/olxdS6m9xJishYm/j8h5r1gl7LbyjBlQAPXWpcCJg3EalNWq2O186JcYdIVbHa+dEuMOkKtSM7E/BPHqW/wopVsOkKtoTDGNI9O2Edr50S4w6Qq2O186JcYdIVbHa+dEuLlcBssFvKg8U2LkGwtA5yhuBvmQjP48RGWC2+39Hm7HVhIhDt9nKAZ8YhsyTVoaEPpTGBaZI7QNy+Kk/wheldDMrRAbI6JcYdIVaoGVocR5tCIlmSShdMiqJ4BeucEEmBRyH0fJOrge5eC7+Qph3lBYsQMeCArzR/efsuC/ljnZS0+h7jZjLExzEpw6tyUhRKhHsHWI0Hn3rdaDcEv10Uh6kSHIpDcIyZWhbYQUtq/xPYAWBZkgNCm2ronpzccBD0a7R0pb0tWRJRv0k2rVaiUZa7UINRFMEBmPYEc5Uq3gf+Lk04vUcEKRk6Xk5mUNw2dYHWbtRTinz8mPa1aUXvk5vWH51m0sQA2pgt6sOoRemrVbHVDtI1lJqTRv3w+ip+i01iRD17j35zptss4A3XoqIZwBqEc8eYJYYxgjcqqbrn8l/ISy6mwtX9trja2xwJvHOF/K18lFvvzycWhrZI5apIclfOX2KIg230BOgo3qINY4hLLj7lNvhYrzo592bQBcGRwKzOXq9YSMaQgDuLEED60Ylxok2ima7Iatq2hdsw8MI6hEHO9Vm8lhWGd2cj/FYcPL5gayhaCeFjTkgNKpODbdbEps2m+OlzIfb5WWYHdGK39xrfazZVonx0hVsdr6J1zYLXDQNM724HZUkRcKFUSIoPThrpVimGsjFFyRoxSUPLK6IXY9KyogqvoIG/XNnC9Y8L5GRHu95VO6zNQ8k6aHlD0+iUU7OUNxiuWq2O186JcYdIVbH7/IdIVbHa+dE82zH4UWg2QxHkHbJRaXZWxWtWNlpbeltdL1N/6GszD8CHa87vmlYTXUgsmU2vO75pWE11ILJlNrzu+aVhNdSCyZTa87vmlYTXUgsmU2vO75pWE11ILJlNrzu+aVhNdRicvfSQMlTzQUX+LpAiOUvTwG9KPTKKXyj0yil8o9MopfKPTKKXyj0yil8o9MopfKPTKKXyj0yil8o9MomsahqwAAP7/XQPQ28HsiUZSSp89yeIHhi25qt23D2yunP4I1hGsI1hGsI1hGsI1hGsI1hGsI1hGsI1hGsI1hGsI1hGsI1hGsI1hGsI1hA/rS+B9Ge+l/eywFZaBy+rEZGwQi/+xgoqakJsZV7Az5jXgoMiunbpkC8Y3TuP9znrDw++Kltig8iL5aXI5Akk7mob9GbfrnTfsp6E9tUkNq2FOODQm+OYFr9fHbvT7k54dVnhz2MSyRFezLCb5zJ1/iyViuVQI8tZSBbhs0/TzowLA+BGN01dDybXdqSfQyPe4OKvrQepKxfrU1+zx7XXs6EXzNxuRdOvndOqqS9Kfs5vYwqkiCwFpohiiJzgYHGG6TXFKLCls4EiAouC3vSCTi2Q4ViRL+skxw/Zzc/J1+L+8o1JiuC8ZTBIXt+xWC7kE6jJz+YjgEfEbnGqqS1l3SwJLqaKdqqhCxmoi47AQNGnK6Loui6Loui6Loui6Loui6Loui6Loui6Loui6Loui6Loui6Loui6LoKc+M0yshs2AEqBMj+GSt00/CqISWYV5a0dZKoYSgmUOOPNsvWQl9Y+WWxMRUdeQMpd1LSVNNRrWPgsE+jXJpycUHeg8jgtNtrgwcW3I/u8nY2EhO/SjFAoRqfBGMkLeI6RcB+va+8JUfKShbQ5mhHkDaNY+lRFGodqxENDdcFJSuDo0oHdwEoIQO3/9APRW2N5VjEd8WtoCd8crC5nFRIXJSKWo/QfKY3Bt6/qJZRvSlCOdCCd9WHm1rRFNAaR7eV0XsqNgM32b1XvZzbh/T8AvMRU8nOr2XYfbgH3+bKAcl6GxV9xrGxO8k7WfLdjLXMHhuEy/LCbL4wBsa5oQSSN1TwJTQ9070UAfiXRS/IpybP1esKWeJkPKqPSPgk0ytJdxSBi25WuyemfCnFuIuCVLLfDIwc8pBpvh675v10RmaQ1Hl1AgReDL0ASvyLsCPgAwIt/aLvOj+ACKfgoBVlGo4rrumQLfv76aJ9i1uwSQdTjjp8gINWRSDuOVPG19M5xRzjU0M3IrNEuw4ZfeBdUcaothfeEPvxkAyIoq8by9DAGWl303HpCtwb9hexFD9mAKigabiyxNTzxIyKtbsN5dkiNnrYlvSQpzDdx1OtZCyuHm+1sOvg+KKzBcRmeq3EOJNnYV9OJq1BYLcPZZ5/94AdemiW27NOHPWYuLj2aYHX/xzlzat4aFY5L8HAKrPNyuieMidP8MXrAWjFU22itcrFhvoPth/Ik2BrD9hskQfEz95qnzG080zpJx8ee4MJls3H/lam4wxxafeHk9x08WWewjMHPTMLVifpjra54XHRfSgeOPVIijtfKU8MvAU32hagp/eW3IVH+74OxoCOAaUM6KJfcgxFIsBZH/BUuNrhg6/WwepEUNdHErfdAAEo4ZLTcWH+6MzLwObawpGcHsCD/JbKJqATCD+9w9K5n2UubYBtvQxUfig4d0SzNbAoKl1FYTyBHvjnzHKf1+aCClSUC47H7Na3gLT5hTO/EulwiTiuoJ9AkL1cyWRAlkNh7RB7xeXSJZVTKgbREjUNqLtTEJet54OXqd81J6QOEW76kw1YA6kFa418XtHiiu0Jr0xkbSCdgMBuM7ZM/3ZLDwXZiFipCovU+Zp7M5bg1IxH2KvMMXr5DFBOdEh2z/Rc7RnPMUZCbPiEhieZZV+Q79ZDAlOzkKl14Le+OYO+hsJcaN1mDKiabu757QYv4He7rdGQTpnJ+UH4WXNrQveXnhadFszI+cizrIneLk+TfDvJ5uiWtLR1jGmd69vdMYJCvJTy2o920AGOnJRACYi93xr1qBiIyNnV54vp6snqoagUxB6ad41+yfVB2QgYf3309XlBXV1LlOVi+45WpM3vkuscDppvXzZfGLemxUCs3e/B1/v4JFlgB+CcBr5BhYHok3MJRTeXaV3kymKuk3/rgxNNKNgW4oASsEjAC/R1D5UQiCIdNOrRtgrSouhoYeMkKO/Rp5FwQ8NBpZpoXkXk9kl5nEV1iJb+ypyYwsSLxpe5g7IvQE7r9agrDaiMGzEs++WmIRf6y9iaYDLqUOC0jUk1C/vcfjqSasfnLThNm43LPgGsKZnMk5b9PM3eNOI88Tm5gnf/pM2qqptRygqhofERNsOqq47ziTyk8sJfX2TGuEN37R+RUCnnTQ7ZXShr04PWY4ARZz6my0iM8o6tYCGjnS6b3tIjt+/D8nbFrLmRx4uhtSKYk743sgcSzbAH2jylKgydy/iCVNrt7aut2y0bc0i5CXLZ+nDvYj42Gw8Oj+3FKZYV0PodF2YyMKGoK+fwGHfjkDlKbZ150y4WgpZwi6YpZnWHbeDSUQr+xcmZoi3xPQfY+F5NkWdPVCziLp9vcm9xJmLBJIqGBEkZ90GrZqSC5KU4SFwz/ZH1DFvWN3/lHM7vBbafugAFi/5FteQqPCz2y6EBl9v9mV4dLm2BTwI5lywQCSIlr1pBWfNj+rNZSZnfmL5XeZBJ0L3BEvaA+sgo5zvGYXFeYEWY3AiKcJBa02or45mDq5Z8+pehmB3ko/ZvndD9D8q1u+zCnF561GpTpo/fexi7qPOL3zvlMOsxv+GmYEhXN8Rz86cRGjhSnMABt2dillSLVMbju/GdG2TlR+VxQ4VQf2MKD23lypC+TtJ2X32AUwfecEdt9ty+tVCVT5AVASISpgabIEymcNeKGjLYg5NqCq0rw+0sDex+8yTbtbMHx9lOfO0/nX5yuVF4i0igd0HUw1WyvEmd+A9Y+3xeKlJ/jFdcY3hm1NMBhTjWk015gk2u/w+2bbM6DIvg2E4+1/GVM1pASaZQPO33OARgbT2Eq5GYpKhBCxeAOFRrq7fWtvNt1PQqbDiGTEz7fTBtm01EkOv3JxjpzfMhLx6ioLRkVcIJm4rN8BOWcrTCcvrV65vtFFgbHTL/6Wt7b1q5sLTtaxVFubzL2xSk6+3uX7gA1tNAbJe4jjEq+GdgxBolFl9zA0loNZfcF1HTQMhTAfQGhVAAkEr3o/T86Vnfs9u8O24hyZ7IfP+MUjIaMdqDtBHe/ja3nlzSXlzH3vIociFnXJnGDndxSq1eMgC3qA8IJOnPc3fN6fuheZALxVquFD5K2kS4j0RCWF/Fhgi82lDVyFnSDiexJAcMXbcQ0seB+6WkfNc7URgw3PfMZ27a1ZeHXAUaVZ1DgqLdiCARWFMl4z8wTBnjoeEbB4vR6FHv0R+zUzKJgqYSOBdydX6ReoMpzSYk6SJ1Hd/piSeulNVOhxFm1b66fey6KR1jbHC89aKaiOvURdiqsLd4HrD/TOecolesPk6i/sdNZn9zECbfTVBzpwQxgXB86XrjhTJoAhCABc2TkKksv4cnw9QA1JDa4I5m0G8g3kJ529+LhtpZbEZoBOcFIeu+07frCQghn5DLh8DIZUALlZZT94DyJNUbSRr0Ii0CokBSM4floHfRu+z2reXsJ6x6khhcVrwZEQxDOZw3hsdx2TZAge2Gk8h1FQhZSPRsHz5SoO7/IYuGJeAoFDm6vJm4SrZ6zS9lxOcvJS8IgkFylTEw242AOwj5ao6wFWWPoxakrK5sf/LrlREpkEhHXFSW8z0gC5LrZtZh1xkqaA7Dmii2zp+xZLNN/Qk3mbRo0/ol7D8vwJkVM6ituCRksEDBD0CC3gCfiDFI/8+9DSVmmsurlxfeF364SFvrFMHUCR7DjCzvYsYebmJxISb82r+ZgjXzORkkSQgyt0w9JLyrti5BY0jP1bas4ZS2AH8xzYndqDQCYGuDmW1vHsM6o3dWOLLC6pfyDe0ebUHG37m1GLWvjQ6OjDHwjScJU6VgwVzrkhFFKa0skeSP1ZD3q63gVZSP8hkU1uc2emh0wvJ6LCHh45kVa27Kxlm3rFK/yaovBsfRfSy7ND8ROZ3ZUklK+8AgDUiXG7TzZ127OhGM2mv6xQHfgj34jua4F2HQ/sOcYmhBwANDHNfstk2/mZAQDLhxjl0qSuBIe6GGNytTcByrAKRwx4q1UxxrqnN/yvGw2UUw457B62IW6K6sAJNZ5qUvHdccVDo4OFon5875q9PB6gDXU6GlLtOTPpcsvRKHN+BXVlpdkp5zwUVL37qTvYDvMx6yqdD4lrQklNyUBdEPLoQNJ8lu+jmbXForf3zwL5ha/uiqVLHKpAG4Mxl1M4vSPBRCqwiL3AzPTrx48FXqNxn2syG/PF1PKKwAQ+Ao6vYrU1m/GTHuxpdV28hHHPNnk+qZFMbQVLm+gy1DkhqQXGMwNmuuqD0PpPZxohShdABxc4u+Htlpm5YNaBeuYmpoR0ohZtxOdPZZ0O97EF07X/kH7bk6ArQJ9Mz8sfZUsBRpCy9ccp2i7XDZf4vZTijzCLXd92VlYfnGrUctKictHqY4+iqfNex10knvxDP2yl9Oxqti4KnO6MyaendMg1Z1uKtxe1ZO9arzR9KIrDHvjEewOGhxongM0k7mrY2TQmoc9EvJldsUhkNcjYtYoFZh7JiGVajVL3VfenKKiJv2JbNyDnxS4Lsp9iTe+py/CaT9Jp5x8o3JXKZQcGfox13M9dUIZkTNbB/256t3W1SAknCdRyQzPf9tvZInHZ+mOyeof1lPyEA76GI7BNC9yY4VYxFDeiT2A6yBV+YRI3mYyheYlYeF28tDtqZwkrr4R9rz9kieeoo3HBsgJosjUwzs9NpFwRCDeJY/e0wYRx0RZCBClK79oCy14oohzTUmwO5GKJztOnOjnO6sLkMBNZKgXkxSDRWBhwnvMuVdge5iOUACHZfdozVVY0BvyexGtqSF4rht8qk17g4TZ4EwNdIr/C3v9TldZRGCb3QFuRlxa3IgbW38A0qL2JSVj8HdDGx8eI6Snw6WAIKDOYGAZDhDkBg2OBYyZA0ncVfrviYRAVBGGvIWx55oO1eI/MbAbRCfXTp7Ue/qrHdmwErxozwwYMQ4WcuTi4WfswZQAAAAAAAAAAAAAAYF4gs+IXNNm2+UYmZPyOs7y3E/gTBqXWk9iW99dqwHHhoRmVMCVaGFDVZF/na4A+AAAAAAAARF+FkYPwgzNkAJKaaN0fV3ukLZx7Y3mXJY5NHqJHr1O2/RF4nLQ3NSqA3gpU0AAAAAFpbgwanOnrDfOds5h21g+luhfm7t3Q4I/Zs7cM4i1vMVxekHb5FFVtpkfN1ITrAfEmQrCr3wP9zzzMR6TrN/Zt3O16obVrMKSmBcVEASmwbFJ9BSLguA7282kcKTW57EFgnwqzcwIjaTs3w2iZyBUfMfDl20BPFrrG/L1huiznLuOdiJ3gTTyrpRr2oIAWJNmW/PbuKof3MrXl6uizwKsuciVs8PKJQlErwMNACW3n1aeIpsszBE5JGXoAiQEzPY2LljNqAR9Fk0hk5xb9NTvL6JzzI/hSY/co+/ok4XdG9sAAAAGGLQQIlAitfBuZr3dUmO+cH41jVHCQnzmsVhCStftmBk1zHgU0nOk7FFzCa7IXai9kQiM3TiHNIszdE1a7X99c/zJMfgHWjVPMTo5Z7o9AYXpvNjYOKoAAAABNGSa0uBLPoPXOE3lbB1DFyKWvQrBq2aZxx8MyyKb3xDZesTnOgFjrXZ4f3EmaCvuS0DtTpexY2l0Ad73OV68cRrRkREXmCJDliSiy5jJB1cAuLqjBc+DtykI5Qr3vaNTYHgykrh+DZ50tBSeTdM1DtUgyJt0ewLX/7Kt0l9b8huN0tNrQsk4avHx+2i8XFsC/Vw5xnPoYtgsnHVRYjJ6hPBLFwimn4p+T3S1buhqXZQOn778lVC/dBSbdIuvztvX1q+b+MRY+Byfp3HfBkHn74ZYstvx7ex8w8gTajEz8777GRM9fB2MQmw9xo/xWef7ItCyIo5Ce4OgAAA9cJwfmUPZmnPx4glPhVsOBxejbZfvid6/GX55GaY72By71HYNiWJ7PE7j4Sj64se4X3FoZhhU9CoOCDcB5MYFv+JTt+eRYlghHIu0aVu+1OxSeEf9urSiqVxl5ii2+xeX/9XOtQc6bI+MivGl8RrMWJlBpzVo6uo/PKxbOC/n2hALyzEWDmcEXXeKLQ8GoG7DFl+rqYhDzSRulYWRPbTNjjbT6GmbHKSJV6Wkw6VNIwgbaERMGelc2BnVC/V2WFE1CHnEvQPZwsqNDEeLiqHDiv1PSNm/xYNsEAyaDoEm8hfEH2IvB6YbaLtv8SRZmlbnZ/N5ojddTA1ajS/eyv+/J81RyFKNUGeLPvkSAu4ix3pKtMxcMfGq0hXI7PCf/pZHRoxc5w2WCQ9S7K8gakUd+8hHKb73yPt1gbfOm7QUwhDcuUgqhrX1ux0ciZJ4mgUnCSsug87Ay0mCnt6NRkvq+l1BMIPbfXm4wkv8IpXYkCNDh8BGfYzqjAQle2GumzFx1JK7zKaEWq7jS09fvZOQI/1PVN0TTzlKOs9AawvhuJqfol1oiknBIYar3hMuUG6VGH7wWPWsqOLKpniM6IPgdzztDtfoDMUL13jHIvIbexRMYKYPs+Qsh7oSSm6l2cGjBIZV0E+LphbmQzQDiLgAAACz0iWLJXQjhPQNUbOjADf5byvgvzIUISLOuIwTy0MgbHzqZgweDAMBB6TWD950qPLYiK1wexoafXlH13nPSwU0QW7NeHku66VLjc/TaQ5B1aN8BAfKObEzJmrgwQBzSC5z9kRKbzgn0dBf2370fQ96EKek29eYjEXDSnlwT7+Zr6DZB0q9oEoLoFWSIVxbXUpE9p/h0chdCNR9YaNJhUhNaAX86wiurgSzKUnn49mIUE+ItgapXAyt43G+CQIfaCs13MchV04vV1WAeZHeqHHJFHxZDDuubeTolv38ABod++jfUsCO1qDMh9w5pR3elxrgdmVB/WA1Z9YF1aSgO1jCvcuRy7BzhL23kbSU8yw9HdH7ZcBkDMjjhxS/DWbUqaJjhGU1FguQNgFSRFxMeG8YrhmtJ5IPRRpvGIPAJZQeV6Rd5eeANSVdVYzHbl7meo8UabzUM7K9RbZx9hiklXKkuvRSkGJO+FDNX/7qMbZjvWPKbXlCPkDQmRN9fA2ZydtBfcRqQ9NJNA66fqQs4YHSjnlDtBdLEsyZikX+jV7tRwrH/SRMFVmg24dn9GxNSp0gK9MX9bgIBO9tzze6AzBTTY5RHfBsT/YTt5t+2lX4tTxFBLaepMuum3Pqr6nwZbEykjvw4FEe6grq59m+jDoVpOansAq0MSjTGsWMZTHQfoIqWEADEg3AZWekOGI6cTvQvdTNCGvWThnOaidTBhShA63Cq8DlX3x/s/PC/dL68qo/c0/vxPwqncP3CX44IFqV5jy8ljFv2EbwRW2FqDfa9+u0CoN2ovESqyLCaOjNjU/c0MO01QMHrfJwKjOBzGpDKe6sMisklRStySTKHuMKUQK7bcIFehDk3fTxPHHRsg3/zzLi0x4IvGGJzLdfK5QkKYRw+i9M2X2UKbMnKGj0wfbruymemKwXMBn6Qg2e0fFaPWROpIjIKcAJWwUNrwEAV8/VHtP6n8IvJne6nYLHXiGiR/9njHKzXgvpIzGPV8Rk3KVbSEs8nb9yFY3MzPDVGBnp7YgV8VByiNf7yYwcM8aLzR8J3aYzoh6dozl80WLHPEvx5d0wXw+nzflZTF/EuIlLRL+etJhjBjrMiJnGbcI283JXLj6zRIQhCJw7oc7yX7c3Ofw4cNP2CMoHyYCO9Bhpm/HaYnQs2XgvKwcfOU1SnH+iZCYURFRJSQHW4BnA/SwMVHEB4WxfJCmlj4JxYaghVJm6i3MplljPyD5yNIDVCHhAcWlWILY6lFmZsipdgHnJ5ZM+CQXlDufbiXUp06WCv1jW3yODCbUdCz7C1cwLHbiPielPvBCPXzzquhxzpWlWJrER/qYQKe2FeS9UGCvuievGLyAmqIsVt29cVR7RRYljDDH2kueOVY9NkmV0evs19uo/C2EwTENRrHWu1JxcIpRYjqaPobFaVs31BnIikK8fve8aZ9Z4gLsI1slN5w9+0UgBQ4+f6d+o7/p9DEmArjyaLu6Dx+R4nTvUnTR73o5EzqwZO+GKlEdfR8Do59DiyFXECuEAveO9gs1F6bhMYwT6aknN5ez/HEAgESqdCD4QDwbDnNcV4i9SounNHRN/PfQM51R3od9yv2Cxi0ByMApcWgQs775PJTQ9/2eydBZ8cPxxsRXP83gWzIHgGvNFMwbmCfm1FlRd2onxuQw2l1yGDy3Gr+bUeHBAwBNTH+BwRzaPgq4857Ct+DzfM/JTJ569+CFSyK/GbRvlR6wFTwX8dxBXVz7N9GHQi9qu05cwhIP9BPFDmNBJGsFYH7LqosRtb1tB2Z7nKDbFcyLM63WXmUgNX/uWt7AmdDmKaR33jClnkR9bxlciRsDULrC7/KZPUMks/yKuz7aWHDjkwzJkbCWZOmYc6GAZ+97NFnlJz4g8SIwm08tciMWz3ajNpqu/nvYwrylzOTZY7vTNobZXrJyIwJbDXXTjC1gz/lLS9H9iIqV1MiY9dWCOQ3MTTwmSV7X+I+xeugtrDZhw6qu3V5qPiJiWUFlxrZDQ9N7/69m3TzxzN/QPTnBK/AuMuO8zCpric9Pai5EKy6N5t3TYraLVXTRR8v6Q7Mpy7e3FhPKkc2EEsszG9dRfiyeNDmlWw47vcU5LteRtPvXw42XqdRAmcClqWCt49uycRzrNQMs/MYJkLGdryhJvujEBZ0WkLuUZSVwJZIRgtPj5PBAq6f9bv581sRfmVYZCE0Y6P880Cm8YI1Gwxzgqsr17hL4YGq5PvZtnZ+QklH5I4ODHQgtQZmzaTIsWGm67bQ0r5xDf0SeneiOIKLPlgWxt+jH61sLpPZLzDSjlHhKk7Y7J8S0V6gxnr4jRFf2rNw9lcQTURQY6Oy6eZvZiWR5tiYOazoxFNiIUMcSrrxB1IlLLXHfgUiEKlRrAvmzKp4AhU2uDloKkMh/fHI21A4jK4mPBz7/H2bIFy64FyPjLWcq1dlJdrS/SFGD9fSQzLKLdLpFhMB259byum8h9XKmTvSAW+XA0iJou7ABZDa/6l15t0DaUfGv3R8/VfZEwhFRSKrnSpmKgBqJOldevwA/khs6DeAyji+DBOdHHEVsqoHpjyi/IALLw1lp/eONWvxLUECGn1xv3USxleHUyXJn77fhbS4hbIY+bsgpuzaCLoLsdzKIxDPVMHAXWzvzjGoeWFke+8HAh/DfqktDarKv3JLVz5F7WMToPq0/pr0cSXGTW4AMFME9Rx3PJn1U3d5Yy+OUaqfX/C1/LDqYuRXUXLW3Sxw/BFZNSd4ytWH+bCHFHgasYsygRV3iNLf62EVTWBrWhaPF2xePfoUcSAn0oj5Ivj0cR1Zcb2VkH7TCRkU3/yKjaT+Ei33qx1D3LqUBiRtUH4zH704C1fxKliURV6XZuy7MKBuFj2x3NKzVWsKOK6iVqUKxlwxduQD4jKQ4YSWkisXKd5etTLXQFHSsp4cFJSIEBUQPfI+3WBuKo+yoiJMQRcYutVyacCXV+jHxfw+w0RogBLAF2cF/dXGGvq21MyLTX/So3KbJ2BB/doEDLe73/Ve2OAhJ3pQVeCyVvC/1HpBZfpUbdisTMwtnt7r2SLHXoaxTbWK9/17mrvs4IDpmgACLZs/6UqZun4k4ZHyAtnQEUMf5PbFQ6DkcqMDck0UDyuMYHa5kcXe67GjbYpnJaDmoNW5Ra/IvmQ1aujQ3kMJJDfUrmbv+eWCdmpazswgI3KKTAtNuFHizCfzDwrM2ny01fRJVIJZMKYkzBlBeYDN1V2GMafEggAsxDJuBgpqLEoBKpvSZBCgHtJNlPVTET+682gV6cO3Kw38AnEwMrkAQVKdnZ3KUuQs7nnFuv/WCKsW9N04vO66izTpFjbalD5MpAqvA5V98f7Pzwv5SJdKOQX5CeIAGL87iFpLnXhggCVMny4E+lKlxuKd6DAoa/T40OHwPUy9QUzzFjNCVv7Ar8Upfr9nYfx3iJ4m1eXwffXFDv5ujVAR/17t5jsf3z8hlvL5Ko/gHvSVHgp+2dOA/d/z6YtlAN9bhjZn/LimrfUqAoWJgGmq+dVBR2n+DogC3BNwlUvWJZPBpZhd64bQnNn0Qlh+MOKdX2254JvPBJhWSa4lBYzASDbm/vAAPBUStoZoe8IxkjgPGPjPpAtLbJtTWi+pn+dmLZqtbKCpJOmIyNzAIqFicHwDIDVnt4IR2NyBs+6hq5WQtfXQD1A5Gm1EkHatJY0sWoNgteQUirVm/gaAhVRU4FErkC6c3Zc28c18IKcutLir/hdqyv+/emem9b4ikCfzDV5lukZtBUX23pwwQfJP6v4+x/stibMARyI8y4tASIUg8spW18U47tdJh1ToQV4h7VnxlsUeXYHh0/sUBeDGoXHYBQ+Ab2tPAJxgJmR51h1MsunA6cktfZ8NSyxYpmPnrerBwvC6ZSBJZXAMC+qNiVy1p59XHNt6dH5wP8mdsaJFOr35rOmIBFuDrbpFFKnWeMxG5NCn8OSe4yzXg+uQmh7g1GapaW3ws6Yo2mv8UlJtRXc0UNeUp93fAmq4N7LCydaDHfFNqPI5IKt524Qpj/kwXd4kmOf95yDKgkKuan7+diA5k1zIkc5lz1X07b3XIuc71kMbf4+YKeVrARi4CglThfLhrugeQf3q/EWCjpesIl+TZd1NDipksJN8ChY1J0DfJc3/N/8xGzhN5OXjdS8SllTHzJs7EeUv680XBYsZVMNt21dybpl+qBzuQFQZqii+Y/DWm+kjeHyyKxHivyN3nH24V4t/bitn80tc9jj+/6WxO9i/O4P7W/1eRisS6y2z6hLUSxoHsnI7Q/GCP0MdDJFqPZbAzxl6+i6ghfCaYv8iXMpmZQmQpjwdb4LTuQBWf3+4XaPTnONTQbPyBtzRRJ+N4pyEk+8qcOG8EZ0As77Te1/P4zc7fGm1darLIj+XItqwcdwYuI8H7uw3E7GlKk6r36/xl2hyoOqLXDFOkJfGVR0DiYVHYn4R5T7u8MFt3EufDwO4M04AWrDzvYZURjfiN6NYaAISGpqdK5RaMiTm85YUh03kHeRVMxcZbhRj2sWpcN/WQQCMIQVH2Ye3njrJZ7ZGiFNOl1GzCpOgRs9J3TJnbR2UGgnYTCTbftTI58bfP5rBe6rhiLzBX63WzHHAVZsP1dAtjYBfJ+LQZzR9ZmX9Ezr5UTkm6vUY3KSQsy4Tc4rRLa5VeIqx4gmxXm1kRE25aLwIwX34Cci6Zc8U9qVq2/2xCPVTng1nSIPGmQ6lIs5+IAg/K64fhFSQ5bVe0tdKlz8jXBa7oWB0Q4124+wXh3hVqi/QHn47ltJGCeVXCt0nxqmA5CljCPtDSWtrKvgpUxbzxAkxMBbrzYVOuh//b60SVf4SCZa1PqovZSJkNeb/GqabIkz+yUSkhXzqhwEqZGDLexXmBmTiTqaV8b1UUjmaK2insB9QqeQvO27CTlUVWQ4WBhbmkcm67uCZx1PkEgU6d7j/XBNPrJzmmMlx9IpyhQFaX41oOVlR4KMMYPl3ccUTxyTZh0Na/X11hCZhc3/ln5HyX7czrEUbrvvGAbYD5OoJfEy/CKPFTKeYJqoO7EZb4GlstELhA0xZt4Ob/5oewXsRLg1PrHqczsA+3kSnATBPuAbbDt89RFdrQWAEIiwsMFul2qAd/BQQ9SbTrNEHDx1GN3Y8WlI6rj75wVa/YIStM07gwA4jbpKFybG8Bzw5XsYwt1p+DE9EPKKNyl285dALYCnr429W4GR+fKR1xlBakTdJl10259VfU+DLYmUkd+HAoj3UFdXPs30YdCtJzU9gXKuHOM6QWUcEGnC/4JOAO1PSSN3eSsGjCg42ZkB97mtcr/GcVqvJjg8J6KkZazTvuxf58FWT/4ljDPBk/8//7U/Te6cd8XXfoK4l+hRpvfK71tdsjyF9QGYtXSR5G3x2k8VEvgmwUN8FQjHoaMpxjipm4PiQgMST6+jvG8gv+xu0aVsZpMjYrs7N9zxD1yFLxVsMPW3SiHIIfPG0d4ovmowZbNJh9qTEnq+AkYemqayQefUKT/Iy4gCcMDYnW0Ri86e0ABrb+1OGttjMrFVMvpruKlb3KxqsPubjR+KST0Z7kun+H0U3YhcwExo0dwGQ2/RgbDKYkJ5y1Ag5iN1iFwr75mt3zYPYJdq3I0eKdF2QCKVq/waB7gxdbunATQ9jnstPTHIBX3ct5vBRTN0JcezL4i7n5VX/HiRAWUae6KS97Hu4xfqSxy63y1zMMbmFSqSLfDO1xn03jBkOImiCeuBfU1HEPtc5DxRGMZ7t/Se4DKnl4aQGjJ5uiWpZenNCAB5qMSPRQeW5SF2WF81A5zjSvqeG+dxu6LOKVNNgECvUEeH1mDTXWNoIU4bMFLSb5s/zQfaUDLa8ATHzcxsPl3gTsiMqt8Wl98cAJHNOkWNtqUPkykCq8DlX3x/s/PC/lIl0o5BfkJ4gAYvzuIWkudeGCAJUyfLgT6UqXG4qjB5Xx+ANVKuMzdtFKp99Wx+HaoCWxN0QnP2cPkoJ8G7/k2dFWnXYRXWlYk4gZOWI7wV3oPnCnheBkrqJLgJcEm71mWZygssjPsneU9GRS+59zpu3VtjpcjF8spmBETcGkLwJp6WFDDaDHW1rqlbRkJyb1DL295zTHX3faDvowg5NRgVRXEaBS0RWZ2JRq3xgjQuB6BsMufSAiA7LMIRP85W4E+gKMwYqgK6clta12S15wAOS67DWL0R8xne0bA21Om+n9CxK1nYPlBhJ9/dDOI+QKLfYyfeUHm3U5dCswBMfesH7jQsRp1rv9oPd2XbZqSWz94101+HTioLei1PJH5ZVW+JdTYG/hi3OmsZMPkC4PP8sGPIG/Np+pixrK4LV9JyXDH3ntHZ+hwlWD7CfnAn+IOe5sbKOkhu89ZJC8o6NhNSZtZWPRSkVbbafO1NfMzGOSYMJUKQ/WRZMs758qP82uSnoKSfRpxWsQTC3HVKBmo8UCl902ba+c5UB52zcdNQ16wAIYepuRkjflj/6nyDsu1Xp5iuybfnSu+61Yb90WPDP4az7kQbeq5238YRalOTffj9AajUrvyms2bWzbWSvABG77EgEsvbsZf6LqgPUvaSh7fOm7QUwhDct1ZITKVg1dKz1kElB9X5wjqQ06GMOafncOYA7CwV9gdW8pKtRr4scXQAAAAAAAJoz0CvGb6KaKUq1p3Hhmxtad3ffA4QyfqL8ZiS6ko021iEJoObIfyNfs8t6MwbTL39Dm+nWpXTF4t2YXF9bykDozgZsPkUw0vc39stJ4i6oY/aD6q7JflETcPygZlL4Ef+8Y4VIbWRIwadvy2hBHzqBRJ/L9uWC/fM3Gwe2jU8noUW6s9UhcKmWgi8I9dqaGrvtqK/klnFaozZXY2PXCC214dPcXeg256l6N+/erp7VZw4+hJXCZl/E0mK+apwGyhtUYWPzfC+Cv7MECXZErf/P73DglyCmLZFMSPUKIBdb3IP8nDXa9rqrFiBoECIhFttRn5MgbYLz7hE4XxHFl7GX1JZZkRh5DBvQ+t/XmZyehlPny9TISDzKxVVId9f1w0Js+XHk6dQCy4RGY8bjqh0RG92EfBrBirDqAzZewWAMac5M9XsEDjBDxIl02C1dY2CUKc4X3uICsS5qjpaf0mKvPBaR60VZfMR3fDHwZ+s9eaPe4DAF6P/wkek7OIXkw540v2uf2mVoAACIef1FXrH0DoTodHdXjjHSD4jIpR2TqZJnzv6ZDnG29ifu3uVbXWVL6oNcCMc0HWuLhgykX7maOyNkWM3c62uUAD/y5tTvE6bjQr5yxkwDy0aQsnQcPRmkE+oSmFxPowo6JI34YDgzgBIKZJ9sruEhdJCWSibq7jTYTipQFrAmyKlCE4u5Sb2aGNnds92ZZw8xfBedEBN7czfSnAOK/jgH5zuvM/DBHMWTFKXWrdIq+2t2f3jszH6MUJVOAXRdeUNMOwYVs1RvWs47gqCMIWd8tToUOtcy9QUiyITVunoAAAAABTXVFBizy8NIDRk83RLUsvSvybwZANE+tKBwqIlR4He87IJos+07lLpYgM55WjBu+GMhE2VW+joQScP3aaGj/s5Y+zf7+GDv2gpU8uVZF9bsK+oQbHl3ty9XtonCwunQHkP9EgbSkEtpjNpTVTO2dbRZpEyzLw+g4YGgZNaacqFPdyDLPRDgFkuYbOvtvOJOAq/7NBlBFiS4K+kh3M+T7BSzEe/gPDdAwliz1ErFNR7vsgL/skbnM8Y630W+fP4+2WYOj6rR5v4uHDkK+0E5ICYKJnTJGxiEisstBmeqA9RKuKAbjyVijplZlJUzZVesPddcGia+u1vmk9FEw0mSbvw0/7o2Y7E7FJheMXjuHOWhFrhqUwBzc+j4O8Dz4zzBaEezkI4Wy9DKqQ8UqXG4pw9hz9eqh7ypAAAAAEoT7giBJF7oAWXSx2DOSFSEQfIw7MqFdkuItaOteZVWECVa+Gmjyyyv4uNv8N+AVSfPRDaQ/AQDRkr/wi2VehWWPGvujmN+YepBl+Fi6pNFB3Sgpl7uXLWKsmFnUxQ5XqeYZFRB/A/A14K8ZIWwY9mscxhEmiIbidFYwqRNYk7z2FVIBuI9uFA+TrmQ9eUSdTCn+04NAnt9TdLmuuiLgiiYkZ+bxdwNWXnY2GKk+38VLb+3QKVZZqNEDCvAHpqMWiLlqgOL5Z/+eipji5qoc01pKSuvV9ZZLaosvU7yl6iEYujAAAAABa5PuBv6xUilp+fW5hBiOq1HG5i6nX3S2H7Stvbv4PBd7cX21wOqdclGmvqhnlxd+5KIAu9gqs3CAFwXEsqpEhVL/QVmkZJe8DcJRrLsxtYObR9liR1fioxDhX67TryECZ3VLJzFqXXGCXJUjhr2K5v+cKke/jsaktx85j7WA0Z2Xj7wCeF/bt3pIt4+zqdog8MgnsPvF2iyrpI2SNAAAAAb2OoCj4XgEjN9OXqkD/hGkWWNBMLgRDdIOe1dzH3f6VTU+RRt8NSWqxaR3FmiAAAAAAAAAJqrKRqxCna+q9M+G6LONot2+1HGolj/UexmNkcV9Oe4Jlp14L8TVW2T6eg5NNpr3zIC4IsWuCCvnMSqqJNpeDC8GLzUTDM6PXYOKl+JZxTPDOjkgVWl0q7D0SUKiRfLwEysBDeRg8Sj3oQDXAG4UMEHXE1uY3k9Qwrw2BRk016tELK8QW5QNEw4fBwULeFQCsp1t4WKhs7XXbTECLWChm9g5zrMEJWgGVrsfhidyWTzvZVYGIClljmTmt0Zyxm2UOol9H+gADrR/YtyxiKgIOKCU66a+3uuYlfKVCXzV2WOadhx3edDvPWo21H0bg3Xy0GsUEBG6voUnk2YtTbkq+AzQYEqBYvZczPVsvkOPMNoyCTQy0Bx/+lwOOpJbIfluUNxtd7cwzi0LsgaKqro+T5aVEyBOvkjzdTnKTDb9hPLQJwbchDQIUKpV6OSJVAab8kceRkyHPr/GZwwkcBivB4a1ALqId56KgC7OjD78jHwl70x4SnEZVTgMMMC3yraGq7pm8WE7Ekkvpu3Vs0Zq4YWRQ5C16tUGRWAyklEwaaRgSQhKats4sFD4msOCgxMyMyq7wFn8CcBdT+AZjku5kS7Y4XgVyPivd0gma1TlmNVxR5E1MoVgQuhaW8ukvq8w2d9hknyu/ltSFqKsr3psd8zaZdlg5gP9GlLbJnheQNPb7MO5IwZa5qL28TkKSjYxr71p8nU8xYDfpytxBNevta6iP8Fsq8Ly6nVPXKeWtyZaZNRwyCcGmgE+9ODFkkh5OlRZHsOMfyX/UPQM9qt0D0rjGD7+gV5Z2aBwXlcirAAxwtHSl1Svwe36yAGrsrnKNoFvOR7/8/azj6MYq0drCOv/VFr2/P4kYicbFajtQkg8Zn/+UJmQAwsUugwcyQXYtl1qNIi5T8/xlxZJ//TGywwWBKiYPnERo4QvZr1WuAHPzb4C5/c38sLIXz52knaQBUZ7XPPzRebcJdGvfIvGiwkF7N3bseFfw/g2z7EpUKbsZLjq2xV2zlZwYwp+eOo0IMHyGdmbE5uuWkzd4OqcFQklIUApxNbHDsbY3HDCdhwLADZRp7/MjxMI8MCZyojJaYrEkVUtxrHH3karGV6iWXh2U/PxRhEdbUC2l7Ja0dzdT0no6dzlZKHGIxFA1gC0nhTAzqegMVhQCZp9cLa6a/2uSu9lC47DgtFwCaCRLe5vTXIL9O9nCO049WP8jUuPVPl2bOBhJjbwaj/fSl63HzGARBBHFeOUBNnmykZDuVhoL35sB8/tqNa9KrGZFv8r3VaW1+sMVRtDUh7NxzuedFpNWReVl2K5wGdt/zPYBf0+BA4JL6abtbKS6u9rLDxP+ia/K4uVdyz8jp9ahwWwMq1mx/hLrhKPUATd+vfPkTGsO9brznmsGijlTIsyU3K8qvohChhOelsVhF6Aksnpx6mmfZ3Zz/y0/C9iFQxKSXoi20tpZzGYLOqLIC/d2z5M1XTeMQSC/pOH1E6xH/F9KzCoUCLUUVOyI9oe/5R0IAUlljilfeCn/Ztz1GSjkFuc9MbXBG8h6XmTq2TsaY7i9pNdVmlZbtgZ4w8oUnv+OhiO1EMrfwHlrUWL2XM0yEsi+E9ekk/SsdBVPKiHjAzyKlEOHQx5aAjuLIdtXKwP0vvUWpI4sJqLMSlA1S6V5bfG8QLcrkwPZrCPXKneG/3ylbR1m9WQelgwi3IFIu3fj3tFQ+mpu1FYmFTeJAuSzFl7RqeZqatM3WTBTMkuVLH1DYRv/T8N3VDywe5aD8U5zrrnaLlh7qesaNfNsO5TioqYzQdwk/rJiK2LagaBcXyqeT4u1FMXvsY3DC/sWI3YZPkQxCRDx8+jrIzJNhFxH0Okrpy8/N1eC4IFipqW0BO/jxipffuJlA7WGP9qowvDJfpRN17WRN5vh+gwVGVs3q2dp7VqSRnW919NpeXmGHIDYUhExin1K8s5ndl+LhNPOByCmP4nSe4YpzYUsM2JkSRQxO7AaR7giY2j6skc4AjY2ZQuyPMBlSsagjvYDUJXH3Z2pYBfQJwiTY/QkKEXdEX3U7Nl/BAVoSo+4iVlGe43sGae88BUMg3pjKAPscXuTcEMI5kZ9Ozj+Gz4r3/lJJN1kFJBica/a8C0huU9aGpAr/5dGB+zihXBm5sgmmr1tyWBJxI/7X6GENcEnSCJw/r7oFE//CUS86Yzd/Vg0W3vTSwC5EaEZCLOlo1ooC2zrTnqccklghMVpOUCkVQStqKGSf4w88Pf7oDZ9deJSOFQGm7oc7eLdI4YqzYPa83IuxvxIRKD2h5W9KVyo/v/0Q6WI0stTeNYz48LCDR3Vl5slxDdaC9wP/zb4lTY3A4l9VeS5y7zXC5QYHmC7bDIbp0lPMKNx4HxV/Jtfe+3kSdaFOkfAkZVsq1/fvico0bQZhk7s1WICX9cSDteOtAJkVSUvkKqP57LqX/c3x7Pul6rDzOwKquUlHiEd4RgFpG2KqrXjDpwn5laDTLk0caHpiANdk7engwn3BTthwb4tIGIZNBalLwBM58Ee9wTrYIB/2qZE+uQI/cMeOnVRH76Jz673GdNQQF4pPFI1xIFr5vJo8yxHslUaRg6uUbJBsnVpO0I7AfuaKq/SPBXtKrQLVU/GSr8vZaZHMPe5iPFmjDekMmIQP95MKg74yM+sbqbDY5Sd1zDch+0tP284VIU71YGzLXeECpozkK86+fCT9dEhiQimZj4pcYcARjD2aTQaBr48BIUyZZchBZLg+O2jGwV0q5DSEarlaquZVDjvqI1ulJqOfTZpIJZ1YxLSb+7HKA1nj9QeVTIHKpgyyhTd6eQk/A9/Z+DZbsBHGGJmY10xnjeOsU/5r8OXQzy/LJWQM9MMsyHQQR5EIluurKp6GXOwy2ztfvuxDLcBQ6ubz8+rKGZSjQy5jaM5n4c7NIGYOlmpf6mx8p1q2uDABf6Hcw8YjmyPivd0gmgtQSVBK0C+V3Ub0FBh7dgnAyw6h7PUSl5+D8KBHTpvm6QHEx+2viSWnA39kPR2UekhA7UBD6PQKlfDyimEDxvKR3dLpA1dzEfj2fYk/+S+nsh0eNtVlsWBKcQB2Um1Swh1mziIiwuW2ZDz60SU6LNtRxRrsEVQ+o1MNSgVRs2KCa/5AR8H6BMTouPsbJOc8MfvZLERnKgmn8iLJEmXf6rPhstQVR9TduhNFyl6QIGBmCADOV85JbvoIy60lrBaqNPpKEdEWmxnqGMchFyvVF/BHOidihgg5tJVUtnnquvsbl21Y9xmCYnYdWZ3uOEyrNxGNfqbPm6icQguB1CkL/UJa0g4/EHNRzXhFAqSYdAreO0eCXok9uTtRi7QH4rZeby/iBqIpzE+4LtZ95awTtcBqfSEGeH73JT8S4vd/VrhAb6HYa+L/JnlsA0zkhVotn4qxaC1xa1kVQUUwcIeflVRBbKQ682sh16aB5VFVuQ6Qf6fK76pjvWpS318t6DQxL8hk9Hyu9Cmr3B0UHFI4SE9d/6iVlQXB127ZGmahMIvh4LmeJk+KzXHBsBj/mXgUm6wpUF7C2KPspllIVX3JNHPRwUzzC80J4bOjgnLn591vWDVaXM2+WELUcqV7Zcdd73QnPpNk5jfzpRlhQLP7C9DNRZxS9Fa1GQKp9JdAvx31N/od6vf+xJd/QDvrMkqjvzG5cmZlH6+JZN6loU/W4YsDquYt5Ox5jimjK+6qpJAE3YZ2PLmOPVd459JpibFE8frcVnFUahnXoTKm9T/Fia7E7vxrVOVUZilCfXLID281bmiuklOeHlC/qe5+46aYt4lbtBjdpMotPV0mwAQzr4KlpcAv2kmMq6W+bR3HMQ5WdmpWiU+M+1zVeFUGfR0+KnLcWQXj5lHsNid0SM24bdEeTVkX+UF0XNtkmWT7xy3diC29NVJXNHtFqWfoqX3AX7hXLVMkWYJSF0yPKSl6+MeKiNU8ZfbaWiFwmuPeXD2X8osl5xESyD9MGjvlx0P6d6YFJxzceipKTGQ9F62mqluwUhpzg178BjaGkNqI6HKb0X1Ciz6GMXwhN05ZE8JDKOjPDyTcvfBFbx9dYg1BAKSn7AgmzgJRABQIjXW5n1MTXsSI3++jw08vdJo8phbzoLg0b0dM2WZ6yMYHI7ZimfsDnVlloWbBFF6NE4fXgo1ZH3BpCjeOvdNzL5UILsWGm0Im85d9GJoQH1QLWsyvK/gz2T7BobxKg2+WmwLiJuvdB1QCuWcT+A0GbBNxNA6oLWaTaCy4JH+DAtgaZksZQPMLnJHMe8sP9ZJjCtJqv7U8k1jNtuPlhVgTXfKeAUiwAQa7gZYiixXNzy2RGRgf+WfySa3HrQEYj5jQbVYvRUdooGHf471BLqAfKgnJkxxsTKw7QOa5cqKKK6b++aftvB/eWBfDrxqoZXBuPNIannT0d7kfZrYnQZSblx6bsZrWBL71t3QyAhv2TZsBknG3YW9lEjAU5aRNuujqGh06Fd+IlHGbeKbm/eqikl7BxH7Ig6o/PiMGU5bAZ4qaDbdr+dajAAup8b2c9e1Xzk5rgMLtTFPhtv7/4Ko8mdGQgwK7KHUvaokelxc/8zdkffPu3BXP0vVEnSBolZqw5m4uKmjSf+PWGr0bqeMEsjPl/iK9IsRnyyvCkYRIWFWsl4VTNwQJys5q4VbAAmbFSOwdBWAi0YTCj7IBio5dnhudEbIGK3YnCDhvp8pTWqIumHMdFmHtNS9dDLWQizUUp+QnG2EzW3fVcDeqiEvo/9bv0KazzCNITQU22/qvtlZ4+jXlme1p7cRg51l1Njp+0KkRdCkFBzY2zaGwB+HLpv7q75KRCHGuz7PSLRBwa2vI1mGsBY6Gk1hAzXPGO+cqb4ATZVokPbFbRanzO6dD66YBPPZUJ5DRMwzL+pAP+hhF72kUezYoZ6ATuIsrJL/yMCWkRog71+ZPn0Bm/HGQ89ujeb2DIbG7rz4YZZJnLTpQOc+zwWHDMvgz3Pb52y+xqzn20r2Co7YwgmMwPy1mRt+7JxEv788gDbXCnvc5EdVBOFLTGqR9vN91bQqf4YO7zCvJNKikVaYXt3uj+bVUgRsfE6IwSJE7g5xJU7qFfYGZ/D+EbritwlmcZVYCZIkZ861/a0pXgv4em18GyEk9pB6H8A795fgA++s6guFwBEttuirsIfgcW1ttgwio+WiOwW48OlN5/Kby0xFUnDOXtz/+MP0J0ECQbdBIIRPz8r531QC3r/o/UOMir6OGULf+doltlZZ0ptLYV+hzhlw0MiQFm55EgBZWFvi/G+j5ROrpCfPnGNimzB+XED7KULI9mFsfOUTA2rByP99fyLoMv+g17W98r1Z8vwE4GxUs6JHLla89F8aguAif3X/E5eft0FWUH/yblVNbY7vpvj6McZSZxBFrnvrXkFXbV6EMHeitUAfnBLt2SOdSyZY0mhflhOJwoox8yXAlqu8C0TUWHkODkVvLYdXfa0hUXNginzaxbOy2IlNOMS1sma4IHB0OCnQd7hZuH4ZYLho6HRJ8JqLNOGWSmCBVH47VJAaJShjH6R0VInxnRzQGbUMmmW/o9hPhPAk7FqkHG25IN3gijXS1WP+5sLyasHiONwHQjg+p64zXeYSEkpeSYQRp6xrFyDC0pj6SlWJn1d7C8sqXVUs7uY4GKy+3d4h2DvT3KGD5ejEYRblBspNVEyierY2eI6MtT124aI8tZF9bd5HFQfNspfW3uHpLBDtxjfazEl2Iq43BgVocSm0+GQtF+x0BhoU+4AbpLHsqJuMfN3S/01vspYopA+4izNiCfilpoFCINPqQ/Y2ZAiOEOce+2DGAhwknj5z9gaUgbVTWr5YDMCCnxqtIUGqBV6sOjPEA23iNfEKpGV+alTc2ws3T6YPAsUbMYRt7XuG8avvn0LIFEaBcA5IcI58Y/awf8G8JA2/WmXbfBhNhR+26RKlNSGlH1Ky1tP49x2MPgaAvIxesI23ks7/8uwAlcV5u4t6vKQG2Hu8en+zY3nz5dQipNX+zZ5plKF39wknwBNL0LgWV/Q/F5Iu/7xUVWEg0/Q6k92n3mDFsDKuu01/GjZ8LH/6D0Fx3Tes4XOx2nXx40cMwhnnixWNloYE94mvMfHlKABKhje12gMWLHqlbcfyaizvy/h2AZMIiUZWm7N37G31al26k7Bq4c7raVpUb9uJN0nMaMtu+BrfEiqTTJUk+EDaJ5OhcXPiqbZkZLv8WJrslZ4WTJDFGv9hIanxbpdcN2DUpjZWS0DKDSC05vznn5uKgbu/wbYFbLtR0SK9rTDAhyxrqAaxjxaw5dIXfWl24h7Dg+bmNE1zXhLgLoJcon45+QRhxQX+4g3WkvsUpIfkkDpGrgK04B7JCh2M3l/INTGjl75ofotkm8OgK13yjXg6h1m1KYvshc9zIzWlbLn2EycUUWSWZ0b8fkx1yWam0AunO6u3jpcFoqfW4/ogME6iP35BQRjSPa8ayqCH0ZiCORP5pmY/8ymNQN8hP+zy10KGKAfut4vcTyDu/49KDm0wlz8Dc8V9cnZzJbtZ7lxUQE0os2GTdrLtd8ZD4xjnXAT3brQ3/cx4tGDyvjw0+zr3TUUJJx3L7piRlEaSCUHc0NxBe7ndYI5N/BvnYZrmUioIMr9fQHHirFYLHmIh23lFJ7/2YNwKvziIg5XGWW4YiZ/vP/EaYSNF/KmeVNqnuMZ8ka6d+m3vgszEj757WIlw6Etw68uMzjd+Ju/ofk53Wc1sjcV95sBJ1ZPcrHWTG6qWgikuAM8VrJIL+xZBgkr7a/b2aCq6UKHG0sECnfur/CwdbAPefosta32Bb7lz39uecJsQeXY1q8v9rR2/eun7+Vu9ZowOGLs4yJxiJ15AGMYA2FEj99fucSHC4RnKOpa/1x48teer13nFSgi93PjAQvdE9SSY0E03ouVNzfIUn7CACgkVh3UNFYfuH5iOeRUZ7pB1JB2kS4vxHk60FGKhmT+U/wTNf6r2ujQJecU6AWsBDdGhehQE/7vdVf4Fi8wGeA5Af/AYVT8m8UdHtsm/+yFzrGZQJYA0Ac9eoIpZ0YZmnPnQPN3IYSQi93tCHVpfWHVlJmytt7vWCKrgK9H30YybPLAFMkzD4DH1l4+n1Lq1ceLvaK4DOP4tktaNLubItf2Z/qgV1sBX5GfU0VlLUIWmdDffsqrM7lNO1nwd2rN0TbiJOXmOetrxn50en7x7FRuJ+5hZLjhRxCeuUtxV35RLeuV3U8Lt+PHNDj957MQXcp+3MCqmDvHdnntfniordQBBGcd4UFHpb9AlJNjfNjGzcbnu1ZxpM6fCyXtW2xP227nhQF/W4kdM+LX95bNkR1ZdSVfNzwZt9PWHiEHenRUwtF16oqvOFdPkQmoRRHzxfVm6Sk1yE/HNP3XojxM5DZNQSnSEQA9z6oz5lEKgP1svCyOvux7RvkaJQfWgiLUXmkm/6D9VUEptcdqIodt5N717iAjKRCER79eWrL0tFZVl66Cw6dpvfwP+G1FCxuHAwkN/pDSz40zvWNHtgEkz29vihP9Q2S8qpn/fQ4Q45xSnL0En4vjIDPM/bVfgmg1TPKfUrdGCOOnK0p5nwylBWXcFcjMTJBsrOFAvNx36UW1st2vnIFdNxBT+w8J+qk5rJYbwsaiJSumV5OYhcFiiR9QGjHiwL51NAgBip3SvEd/u/HGqAlZHYKgFe65rQJmYtdNNgAIZI8jw5nALFkXCt/+SzcdAjWVOngejWCFIBjecXU+6YYIHApE2HF7316BE/41jdNCTJH/crwJHDHvdIwVTXwXWDWedrDHOv5FLOeMp6lE3TQx3ckBFyVNXpjPqVLo2slE4uhEqZLh6yUtMFmA4igjx3L+DCviY4/1cs6eptqLG0D0ZpBY4UvLxa/ziWTLzP/kAACqKSYFU+etR42Gsy9s/GmXnPXDi38B4Glem0v+exH/3cE0SgOGAYknXLxxifQYlrgFJvnvFTteqSSOI6ahfbzEgbb6T3O+hZFMF8a+jv0J4odiCab1ayNMRcQcAcogmrlNTdMZeWqp57b4q68PMHXAJl1MmeMnLBpftf8ntGhrLXdg9yoXcUZ3FlkmnIXX5nVKxRWxi4RzU3JrnlzsujmPnaourMBJydsCZ/xOLkGemGSDfb4VIwN1LP08Q9JNnlW6kQV+Z083LlUg5LvrIJQ9gabEkieblcgDtQwzmd1owbxo9kUHLncFJhXRU448Yuk2VyoQhmwNC8/QrSEG40S/BLWzus4eEBkQAAH5dondOb8RF5sZgko4+GRPsZEPCb82PfbKHUrJ6UJkTXxJ3ae7E53WRWdqM3vOXXRks7dtGlxOz8yi2849jnmmo9lC7te5dlY3eGACVOdvV2xtBp1xwa8FteJJzRng987wWoYAAAASedT5jbI+seLG0HO3aXXa6znjymwJ7DCQ9VlhdbzXEKlvbVGN9y5qNOUV+o65ximNwrp7l4xDa7U83decKdqlYqsSWPoS9VFChNk5MEfxN67TnIo6ZeU7rWY/ygSOE9J6LVtQAxTk0p3W0bBAAAWiQEoLt445oqNFbT74q8MDKPdekng8kjPmO5PhAm72VwH/Kr8/ArXokzsyUqwXbbiiQXNV17Kx+vdBWU2YZS5OkJn5kFdAQjG1eo4nT2d5VVKBOBcAw7VvqBWzlA8qoOiPBxlccQHuBB6RNC9kwSDbVUPNkfAgR5mYRqWe1pCOh+wi3TsOpWVehTLV6Cs8QJF42FBJakxr0cHq7j4fxIqf47A6m+L0518g78/Iz+oUuDog8c2/fKQabeZ/+YvY423M6hiQ7VnNNrivoDUX9E+x3lyl1hJ7ogQcBCv5Ix6BDVy5o5e/uVI2tv8asVV8g6jF7SBaprCqmV4kRt2hI47+F3yW4gjN0jH38UzwoNdYNdyMxYoSmBXwOKBQrZgbf5rj+3Zev1eD6kh92bOTrN+A6DZI7MQw4BQRZIyjqb2bOYaDwnTPq0a2Bspec0Zp9i+8AO7eMaZFIKUTrs2TOUNvVaFDtWq97Eo1dMayswPcw2IjTZE78HOsUnjTKNdtpeCDbu36zHRFSYt67gsyRPLukv2452MeFG5ikNiyYDQyKkPI16u2NbiAUuI+UvLJwy1ff/71PoGG8Lnk7pv5ASsBMRVUAAAAAAAAF1n5/FxYDK0pvJHSa0G0JR51iuVLkIQHU0p4oHmV3J+q+zYHYbw4kP5QAZw8V90oep/6xZxNwVKWC6xBOOpXnT60Q7f0V34Ub7DvyL8r8NzCi34NFcfgazXdnTI8lr+ikyiLS0I86b+aM2DrEZqsIH96TqIVSTouo/4SrR5wNrDy/wukduDTkr3+gctKGJMkiHjnE9kmoRESU0lx7Da0BvFdx78vorVD0J+Dvm+SGqeNFjKxoi9B66ngVVc8e4RD5r/IjD2TRDSF7XKQ0ABRf+8TajpLiIU2anC+KCdlV7LBAozQtR010hwmHFqDS/wZVTHTv4saFV8P2G3e2OBRmFv/w09iQaHvzI42XdxBi7nmVGK8Xiz2PncAtM/f7AhJM3hFdnlx7aqZKdDpMIp1ZC8l70BSfY6gZ693+2LdI89zW4BYB97xa04o7KN3A40QxM5/k8SobE1IXzFyxvdVIGExqALsc11767HNde+uxzXXvrsc11767HNde+uxzXXvrsc11767HNde+uxzXXvrsc11767HNde+uxzXXvrsc11767HNde+uxzXXvrsc11767HNde+uxzUcA+4jy3F5ca8txeXGO87LoUCAY0GTImU1deSmdGgyTs6T3xi5VvBvqieJW+ABloQmizMHKAb3zkFk34PEJ5dFumqoSxIbm3x981xTNdueFxkap7Sbgw93IFBeKKY7qy9YGpVNjDvl466NhqBQJyBZZZjemypOJW5HeLUamwoOb9FQMfKnrk3SqJCayGlrcbOGMGhn9mMabcAAAAAAAAAAAAAAAAAAAAAAEVYSUa6AAAARXhpZgAASUkqAAgAAAAGABIBAwABAAAAAQAAABoBBQABAAAAVgAAABsBBQABAAAAXgAAACgBAwABAAAAAgAAABMCAwABAAAAAQAAAGmHBAABAAAAZgAAAAAAAABIAAAAAQAAAEgAAAABAAAABgAAkAcABAAAADAyMTABkQcABAAAAAECAwAAoAcABAAAADAxMDABoAMAAQAAAP//AAACoAQAAQAAAAMEAAADoAQAAQAAACECAAAAAAAA)"
      ],
      "metadata": {
        "id": "FIjvlAcusd7z"
      }
    },
    {
      "cell_type": "code",
      "source": [
        "class MultiHeadAttention(nn.Module):\n",
        "  def __init__(self, embed_dim=512, n_heads=8):\n",
        "    super().__init__()\n",
        "    self.embed_dim = embed_dim    #512 dim\n",
        "    self.n_heads = n_heads   #8\n",
        "    self.single_head_dim = int(self.embed_dim / self.n_heads)   #512/8 = 64  . each key,query, value will be of 64d\n",
        "\n",
        "    #key,query and value matrixes    #64 x 64 \n",
        "    self.query_matrix = nn.Linear(self.single_head_dim, self.single_head_dim, bias=False)\n",
        "    self.key_matrix = nn.Linear(self.single_head_dim, self.single_head_dim, bias=False)\n",
        "    self.value_matrix = nn.Linear(self.single_head_dim, self.single_head_dim, bias=False)\n",
        "\n",
        "    self.out = nn.Linear(self.n_heads*self.single_head_dim ,self.embed_dim) # or (self.embed_dim,self.embed_dim)\n",
        "\n",
        "  def forward(self,key, query, value, mask=None): #batch_size x sequence_length x embedding_dim    # 32 x 10 x 512\n",
        "    batch_size = key.size(0)\n",
        "    seq_length = key.size(1)\n",
        "\n",
        "    # 32x10x512\n",
        "    key = key.view(batch_size, seq_length, self.n_heads, self.single_head_dim)  #batch_size x sequence_length x n_heads x single_head_dim = (32x10x8x64)\n",
        "    query = query.view(batch_size, seq_length, self.n_heads, self.single_head_dim) #(32x10x8x64)\n",
        "    value = value.view(batch_size, seq_length, self.n_heads, self.single_head_dim) #(32x10x8x64)\n",
        "    \n",
        "    k = self.key_matrix(key)       # (32x10x8x64)\n",
        "    q = self.query_matrix(query)   \n",
        "    v = self.value_matrix(value)\n",
        "\n",
        "    q = q.transpose(1,2)  # (batch_size, n_heads, seq_len, single_head_dim)    # (32 x 8 x 10 x 64)\n",
        "    k = k.transpose(1,2)  # (batch_size, n_heads, seq_len, single_head_dim)\n",
        "    v = v.transpose(1,2)  # (batch_size, n_heads, seq_len, single_head_dim)\n",
        "\n",
        "    # computes attention\n",
        "    # adjust key for matrix multiplication\n",
        "    k_adjusted = k.transpose(-1,-2)  #(batch_size, n_heads, single_head_dim, seq_ken)  #(32 x 8 x 64 x 10)\n",
        "    product = torch.matmul(q, k_adjusted)  #(32 x 8 x 10 x 64) x (32 x 8 x 64 x 10) = #(32x8x10x10)\n",
        "\n",
        "    # fill those positions of product matrix as (-1e20) where mask positions are 0\n",
        "    if mask is not None:\n",
        "          product = product.masked_fill(mask == 0, float(\"-1e20\"))\n",
        "\n",
        "    #divising by square root of key dimension\n",
        "    product = product / math.sqrt(self.single_head_dim) # / sqrt(64)\n",
        "\n",
        "    #applying softmax\n",
        "    scores = F.softmax(product, dim=-1)\n",
        "\n",
        "    #mutiply with value matrix\n",
        "    scores = torch.matmul(scores, v)  ##(32x8x 10x 10) x (32 x 8 x 10 x 64) = (32 x 8 x 10 x 64) \n",
        "\n",
        "    #concatenated output\n",
        "    concat = scores.transpose(1,2).contiguous().view(batch_size, seq_length, self.single_head_dim*self.n_heads)  # (32x8x10x64) -> (32x10x8x64)  -> (32,10,512)\n",
        "    #after transpose , the tensor will be not contiguous, so we cannot use view() after that unless we first make it contaguous then use view\n",
        "    #contaguous means that for example we have a tensor:[1,2,...,10] with changing shape into (2,5) the order does not change but if we use transpose ,\n",
        "    #the main order will get mixed up(check the top pic) so we need to define again the order by  contiguous()\n",
        "\n",
        "    output = self.out(concat) #(32,10,512) -> (32,10,512)\n",
        "       \n",
        "    return output\n"
      ],
      "metadata": {
        "id": "bmjtpigAcoay"
      },
      "execution_count": null,
      "outputs": []
    }
  ]
}